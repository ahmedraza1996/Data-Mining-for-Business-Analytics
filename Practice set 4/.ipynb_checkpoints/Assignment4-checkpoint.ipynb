{
 "cells": [
  {
   "cell_type": "code",
   "execution_count": 1,
   "metadata": {},
   "outputs": [],
   "source": [
    "%matplotlib inline\n",
    "import matplotlib.pylab as plt\n",
    "import pandas as pd\n",
    "from sklearn.linear_model import LinearRegression\n",
    "from sklearn.model_selection import train_test_split\n",
    "from dmba import regressionSummary\n",
    "from dmba import backward_elimination, forward_selection, stepwise_selection\n",
    "from dmba import adjusted_r2_score, AIC_score\n",
    "import seaborn as sns"
   ]
  },
  {
   "cell_type": "markdown",
   "metadata": {},
   "source": [
    "# PROBLEM 6.1 Predicting Boston Housing Prices"
   ]
  },
  {
   "cell_type": "code",
   "execution_count": 2,
   "metadata": {},
   "outputs": [],
   "source": [
    "boston_df = pd.read_csv('BostonHousing.csv')"
   ]
  },
  {
   "cell_type": "code",
   "execution_count": 3,
   "metadata": {},
   "outputs": [
    {
     "data": {
      "text/html": [
       "<div>\n",
       "<style scoped>\n",
       "    .dataframe tbody tr th:only-of-type {\n",
       "        vertical-align: middle;\n",
       "    }\n",
       "\n",
       "    .dataframe tbody tr th {\n",
       "        vertical-align: top;\n",
       "    }\n",
       "\n",
       "    .dataframe thead th {\n",
       "        text-align: right;\n",
       "    }\n",
       "</style>\n",
       "<table border=\"1\" class=\"dataframe\">\n",
       "  <thead>\n",
       "    <tr style=\"text-align: right;\">\n",
       "      <th></th>\n",
       "      <th>CRIM</th>\n",
       "      <th>ZN</th>\n",
       "      <th>INDUS</th>\n",
       "      <th>CHAS</th>\n",
       "      <th>NOX</th>\n",
       "      <th>RM</th>\n",
       "      <th>AGE</th>\n",
       "      <th>DIS</th>\n",
       "      <th>RAD</th>\n",
       "      <th>TAX</th>\n",
       "      <th>PTRATIO</th>\n",
       "      <th>LSTAT</th>\n",
       "      <th>MEDV</th>\n",
       "      <th>CAT. MEDV</th>\n",
       "    </tr>\n",
       "  </thead>\n",
       "  <tbody>\n",
       "    <tr>\n",
       "      <th>0</th>\n",
       "      <td>0.00632</td>\n",
       "      <td>18.0</td>\n",
       "      <td>2.31</td>\n",
       "      <td>0</td>\n",
       "      <td>0.538</td>\n",
       "      <td>6.575</td>\n",
       "      <td>65.2</td>\n",
       "      <td>4.0900</td>\n",
       "      <td>1</td>\n",
       "      <td>296</td>\n",
       "      <td>15.3</td>\n",
       "      <td>4.98</td>\n",
       "      <td>24.0</td>\n",
       "      <td>0</td>\n",
       "    </tr>\n",
       "    <tr>\n",
       "      <th>1</th>\n",
       "      <td>0.02731</td>\n",
       "      <td>0.0</td>\n",
       "      <td>7.07</td>\n",
       "      <td>0</td>\n",
       "      <td>0.469</td>\n",
       "      <td>6.421</td>\n",
       "      <td>78.9</td>\n",
       "      <td>4.9671</td>\n",
       "      <td>2</td>\n",
       "      <td>242</td>\n",
       "      <td>17.8</td>\n",
       "      <td>9.14</td>\n",
       "      <td>21.6</td>\n",
       "      <td>0</td>\n",
       "    </tr>\n",
       "    <tr>\n",
       "      <th>2</th>\n",
       "      <td>0.02729</td>\n",
       "      <td>0.0</td>\n",
       "      <td>7.07</td>\n",
       "      <td>0</td>\n",
       "      <td>0.469</td>\n",
       "      <td>7.185</td>\n",
       "      <td>61.1</td>\n",
       "      <td>4.9671</td>\n",
       "      <td>2</td>\n",
       "      <td>242</td>\n",
       "      <td>17.8</td>\n",
       "      <td>4.03</td>\n",
       "      <td>34.7</td>\n",
       "      <td>1</td>\n",
       "    </tr>\n",
       "    <tr>\n",
       "      <th>3</th>\n",
       "      <td>0.03237</td>\n",
       "      <td>0.0</td>\n",
       "      <td>2.18</td>\n",
       "      <td>0</td>\n",
       "      <td>0.458</td>\n",
       "      <td>6.998</td>\n",
       "      <td>45.8</td>\n",
       "      <td>6.0622</td>\n",
       "      <td>3</td>\n",
       "      <td>222</td>\n",
       "      <td>18.7</td>\n",
       "      <td>2.94</td>\n",
       "      <td>33.4</td>\n",
       "      <td>1</td>\n",
       "    </tr>\n",
       "    <tr>\n",
       "      <th>4</th>\n",
       "      <td>0.06905</td>\n",
       "      <td>0.0</td>\n",
       "      <td>2.18</td>\n",
       "      <td>0</td>\n",
       "      <td>0.458</td>\n",
       "      <td>7.147</td>\n",
       "      <td>54.2</td>\n",
       "      <td>6.0622</td>\n",
       "      <td>3</td>\n",
       "      <td>222</td>\n",
       "      <td>18.7</td>\n",
       "      <td>5.33</td>\n",
       "      <td>36.2</td>\n",
       "      <td>1</td>\n",
       "    </tr>\n",
       "  </tbody>\n",
       "</table>\n",
       "</div>"
      ],
      "text/plain": [
       "      CRIM    ZN  INDUS  CHAS    NOX     RM   AGE     DIS  RAD  TAX  PTRATIO  \\\n",
       "0  0.00632  18.0   2.31     0  0.538  6.575  65.2  4.0900    1  296     15.3   \n",
       "1  0.02731   0.0   7.07     0  0.469  6.421  78.9  4.9671    2  242     17.8   \n",
       "2  0.02729   0.0   7.07     0  0.469  7.185  61.1  4.9671    2  242     17.8   \n",
       "3  0.03237   0.0   2.18     0  0.458  6.998  45.8  6.0622    3  222     18.7   \n",
       "4  0.06905   0.0   2.18     0  0.458  7.147  54.2  6.0622    3  222     18.7   \n",
       "\n",
       "   LSTAT  MEDV  CAT. MEDV  \n",
       "0   4.98  24.0          0  \n",
       "1   9.14  21.6          0  \n",
       "2   4.03  34.7          1  \n",
       "3   2.94  33.4          1  \n",
       "4   5.33  36.2          1  "
      ]
     },
     "execution_count": 3,
     "metadata": {},
     "output_type": "execute_result"
    }
   ],
   "source": [
    "boston_df.head()"
   ]
  },
  {
   "cell_type": "code",
   "execution_count": 4,
   "metadata": {},
   "outputs": [
    {
     "name": "stdout",
     "output_type": "stream",
     "text": [
      "<class 'pandas.core.frame.DataFrame'>\n",
      "RangeIndex: 506 entries, 0 to 505\n",
      "Data columns (total 14 columns):\n",
      " #   Column     Non-Null Count  Dtype  \n",
      "---  ------     --------------  -----  \n",
      " 0   CRIM       506 non-null    float64\n",
      " 1   ZN         506 non-null    float64\n",
      " 2   INDUS      506 non-null    float64\n",
      " 3   CHAS       506 non-null    int64  \n",
      " 4   NOX        506 non-null    float64\n",
      " 5   RM         506 non-null    float64\n",
      " 6   AGE        506 non-null    float64\n",
      " 7   DIS        506 non-null    float64\n",
      " 8   RAD        506 non-null    int64  \n",
      " 9   TAX        506 non-null    int64  \n",
      " 10  PTRATIO    506 non-null    float64\n",
      " 11  LSTAT      506 non-null    float64\n",
      " 12  MEDV       506 non-null    float64\n",
      " 13  CAT. MEDV  506 non-null    int64  \n",
      "dtypes: float64(10), int64(4)\n",
      "memory usage: 55.5 KB\n"
     ]
    }
   ],
   "source": [
    "boston_df.info()"
   ]
  },
  {
   "cell_type": "markdown",
   "metadata": {},
   "source": [
    "### 6.1 a , \n",
    "__Why should the data be partitioned into training and validation sets? What\n",
    "will the training set be used for? What will the validation set be used for?__"
   ]
  },
  {
   "cell_type": "markdown",
   "metadata": {},
   "source": [
    "When same data is used to develop a model and evaluate its performance, it ends up model being overfit on existing data, while it may not perform as accurate on \"unseen\" data. To overcome this issue, we divide the data into partitions namely  training data and validatiaon data. \n",
    "On training data, we build the models, the model cofficients are learned on this data. Validation data is used to assess the predictive performance of each model. It is necessary to have validation data, to have unbiased estimates of our model performance.\n"
   ]
  },
  {
   "cell_type": "markdown",
   "metadata": {},
   "source": [
    "### 6.1 b, \n",
    "__Fit a multiple linear regression model to the median house price (MEDV) as a\n",
    "function of CRIM, CHAS, and RM. Write the equation for predicting the\n",
    "median house price from the predictors in the model.__\n"
   ]
  },
  {
   "cell_type": "code",
   "execution_count": 5,
   "metadata": {},
   "outputs": [],
   "source": [
    "columns_to_use = ['CRIM', 'CHAS', 'RM']\n",
    "target = 'MEDV'\n",
    "\n",
    "df_x = boston_df[columns_to_use]\n",
    "df_y = boston_df[target]"
   ]
  },
  {
   "cell_type": "code",
   "execution_count": 6,
   "metadata": {},
   "outputs": [
    {
     "data": {
      "text/plain": [
       "(506, 3)"
      ]
     },
     "execution_count": 6,
     "metadata": {},
     "output_type": "execute_result"
    }
   ],
   "source": [
    "df_x.shape"
   ]
  },
  {
   "cell_type": "code",
   "execution_count": 7,
   "metadata": {},
   "outputs": [
    {
     "data": {
      "text/plain": [
       "(506,)"
      ]
     },
     "execution_count": 7,
     "metadata": {},
     "output_type": "execute_result"
    }
   ],
   "source": [
    "df_y.shape"
   ]
  },
  {
   "cell_type": "code",
   "execution_count": 8,
   "metadata": {},
   "outputs": [
    {
     "data": {
      "text/plain": [
       "LinearRegression(copy_X=True, fit_intercept=True, n_jobs=None, normalize=False)"
      ]
     },
     "execution_count": 8,
     "metadata": {},
     "output_type": "execute_result"
    }
   ],
   "source": [
    "model= LinearRegression()\n",
    "model.fit(df_x,df_y)"
   ]
  },
  {
   "cell_type": "code",
   "execution_count": 9,
   "metadata": {},
   "outputs": [
    {
     "name": "stdout",
     "output_type": "stream",
     "text": [
      "Cofficients of Linear model are:  [-0.26072441  3.76303705  8.27817981]\n",
      "Intercept of Linear model is:  -28.810682506359154\n"
     ]
    }
   ],
   "source": [
    "print(\"Cofficients of Linear model are: \" ,model.coef_)\n",
    "print(\"Intercept of Linear model is: \" ,model.intercept_)\n",
    "#eq:\n"
   ]
  },
  {
   "cell_type": "markdown",
   "metadata": {},
   "source": [
    "MEDV = (-0.2607 * CRIM ) + ( 3.763 * CHAS ) + ( 8.278 * RM ) -28.8"
   ]
  },
  {
   "cell_type": "markdown",
   "metadata": {},
   "source": [
    "### 6.1 c,\n",
    "__Using the estimated regression model, what median house price is predicted\n",
    "for a tract in the Boston area that does not bound the Charles River, has a\n",
    "crime rate of 0.1, and where the average number of rooms per house is 6?__"
   ]
  },
  {
   "cell_type": "code",
   "execution_count": 10,
   "metadata": {},
   "outputs": [],
   "source": [
    "new_df = pd.DataFrame([[0.1, 0, 6]], columns=['CRIM', 'CHAS', 'RM'])"
   ]
  },
  {
   "cell_type": "code",
   "execution_count": 11,
   "metadata": {},
   "outputs": [
    {
     "data": {
      "text/plain": [
       "array([20.83232392])"
      ]
     },
     "execution_count": 11,
     "metadata": {},
     "output_type": "execute_result"
    }
   ],
   "source": [
    "model.predict(new_df)"
   ]
  },
  {
   "cell_type": "code",
   "execution_count": 12,
   "metadata": {},
   "outputs": [
    {
     "name": "stdout",
     "output_type": "stream",
     "text": [
      "Predicted median house price :  [20.83232392]\n"
     ]
    }
   ],
   "source": [
    "print(\"Predicted median house price : \",model.predict(new_df) )"
   ]
  },
  {
   "cell_type": "markdown",
   "metadata": {},
   "source": [
    "### 6.1 d \n",
    "__ii. Compute the correlation table for the 12 numerical predictors and search\n",
    "for highly correlated pairs. These have potential redundancy and can\n",
    "cause multicollinearity. Choose which ones to remove based on this table.__"
   ]
  },
  {
   "cell_type": "code",
   "execution_count": 13,
   "metadata": {},
   "outputs": [
    {
     "data": {
      "image/png": "[encoded data removed]",
      "text/plain": [
       "<Figure size 1440x720 with 2 Axes>"
      ]
     },
     "metadata": {
      "needs_background": "light"
     },
     "output_type": "display_data"
    }
   ],
   "source": [
    "corr=boston_df.drop(['MEDV', 'CAT. MEDV'] , axis=1).corr()\n",
    "fig, ax = plt.subplots(figsize=(20,10))\n",
    "sns.heatmap(corr.round(2),center = 0,cmap = 'vlag',annot = True);"
   ]
  },
  {
   "cell_type": "markdown",
   "metadata": {},
   "source": [
    "_Highly correleated pairs_\n",
    "\n",
    "NOX and INDUS = 0.76\n",
    "\n",
    "DIS and INDUS = -0.71\n",
    "\n",
    "TAX and INDUS = 0.72\n",
    "\n",
    "DIS and NOX = -0.77\n",
    "\n",
    "DIS and AGE = -0.75\n",
    "\n",
    "TAX and RAD = 0.91\n",
    "\n",
    "AGE and NOX = 0.73\n",
    "\n",
    "So we can remove NOX,  DIS and TAX. \n",
    "\n",
    "\n"
   ]
  },
  {
   "cell_type": "markdown",
   "metadata": {},
   "source": [
    "### 6.1 d \n",
    "__iii. Use three subset selection algorithms: backward, forward, and\n",
    "stepwise) to reduce the remaining predictors. Compute the validation\n",
    "performance for each of the three selected models. Compare RMSE,\n",
    "MAPE, and mean error, as well as histograms of the errors. Finally,\n",
    "describe the best model.__\n",
    "\n"
   ]
  },
  {
   "cell_type": "code",
   "execution_count": 14,
   "metadata": {},
   "outputs": [
    {
     "name": "stdout",
     "output_type": "stream",
     "text": [
      "Training set: (303, 12)\n",
      "Training Target:  (303,)\n",
      "Validation set:  (203, 12)\n",
      "Validation Target:  (203,)\n"
     ]
    }
   ],
   "source": [
    "train_X, valid_X, train_y, valid_y = train_test_split(boston_df.drop(['MEDV', 'CAT. MEDV'], axis= 1), boston_df['MEDV'], test_size=0.4, random_state=1)\n",
    "print('Training set:', train_X.shape)\n",
    "print('Training Target: ', train_y.shape)\n",
    "print('Validation set: ', valid_X.shape)\n",
    "print('Validation Target: ', valid_y.shape)"
   ]
  },
  {
   "cell_type": "code",
   "execution_count": 15,
   "metadata": {},
   "outputs": [
    {
     "name": "stdout",
     "output_type": "stream",
     "text": [
      "RAW VALIDATION RESULTS\n",
      "\n",
      "Regression statistics\n",
      "\n",
      "                      Mean Error (ME) : -0.0337\n",
      "       Root Mean Squared Error (RMSE) : 5.0814\n",
      "            Mean Absolute Error (MAE) : 3.5830\n",
      "          Mean Percentage Error (MPE) : -5.1201\n",
      "Mean Absolute Percentage Error (MAPE) : 16.9763\n"
     ]
    }
   ],
   "source": [
    "model= LinearRegression()\n",
    "model.fit(train_X,train_y)\n",
    "print(\"RAW VALIDATION RESULTS\")\n",
    "regressionSummary(valid_y, model.predict(valid_X))"
   ]
  },
  {
   "cell_type": "markdown",
   "metadata": {},
   "source": [
    "### BACKWARD ELIMINATION "
   ]
  },
  {
   "cell_type": "code",
   "execution_count": 16,
   "metadata": {},
   "outputs": [
    {
     "data": {
      "text/plain": [
       "Index(['CRIM', 'ZN', 'INDUS', 'CHAS', 'NOX', 'RM', 'AGE', 'DIS', 'RAD', 'TAX',\n",
       "       'PTRATIO', 'LSTAT'],\n",
       "      dtype='object')"
      ]
     },
     "execution_count": 16,
     "metadata": {},
     "output_type": "execute_result"
    }
   ],
   "source": [
    "train_X.columns"
   ]
  },
  {
   "cell_type": "code",
   "execution_count": 17,
   "metadata": {},
   "outputs": [
    {
     "name": "stdout",
     "output_type": "stream",
     "text": [
      "Variables: CRIM, ZN, INDUS, CHAS, NOX, RM, AGE, DIS, RAD, TAX, PTRATIO, LSTAT\n",
      "Start: score=1807.23\n",
      "Step: score=1805.30, remove AGE\n",
      "Step: score=1803.57, remove INDUS\n",
      "Step: score=1803.57, remove None\n",
      "best variables: ['CRIM', 'ZN', 'CHAS', 'NOX', 'RM', 'DIS', 'RAD', 'TAX', 'PTRATIO', 'LSTAT']\n",
      "\n",
      "Regression statistics\n",
      "\n",
      "                      Mean Error (ME) : -0.0393\n",
      "       Root Mean Squared Error (RMSE) : 5.0771\n",
      "            Mean Absolute Error (MAE) : 3.5746\n",
      "          Mean Percentage Error (MPE) : -5.1561\n",
      "Mean Absolute Percentage Error (MAPE) : 16.9733\n"
     ]
    }
   ],
   "source": [
    "def train_model(variables):\n",
    "    if len(variables) == 0:\n",
    "        return None\n",
    "    model = LinearRegression()\n",
    "    model.fit(train_X[variables], train_y)\n",
    "    return model\n",
    "def score_model(model, variables):\n",
    "    if len(variables) == 0:\n",
    "        return AIC_score(train_y, [train_y.mean()] * len(train_y), model, df=1)\n",
    "    return AIC_score(train_y, model.predict(train_X[variables]), model)\n",
    "allVariables = train_X.columns\n",
    "best_model, best_variables = backward_elimination(allVariables, train_model, score_model, verbose=True)\n",
    "print('best variables:',best_variables)\n",
    "regressionSummary(valid_y, best_model.predict(valid_X[best_variables]))"
   ]
  },
  {
   "cell_type": "code",
   "execution_count": 18,
   "metadata": {},
   "outputs": [
    {
     "data": {
      "image/png": "[encoded data removed]",
      "text/plain": [
       "<Figure size 432x288 with 1 Axes>"
      ]
     },
     "metadata": {
      "needs_background": "light"
     },
     "output_type": "display_data"
    }
   ],
   "source": [
    "y_pred = best_model.predict(valid_X[best_variables])\n",
    "all_residuals = valid_y - y_pred\n",
    "pd.DataFrame({'Residuals': all_residuals}).hist(bins=25)\n",
    "plt.show()\n"
   ]
  },
  {
   "cell_type": "markdown",
   "metadata": {},
   "source": [
    "### FORWARD SELECTION"
   ]
  },
  {
   "cell_type": "code",
   "execution_count": 19,
   "metadata": {},
   "outputs": [
    {
     "name": "stdout",
     "output_type": "stream",
     "text": [
      "Variables: CRIM, ZN, INDUS, CHAS, NOX, RM, AGE, DIS, RAD, TAX, PTRATIO, LSTAT\n",
      "Start: score=2191.75, constant\n",
      "Step: score=1934.91, add LSTAT\n",
      "Step: score=1874.18, add RM\n",
      "Step: score=1842.54, add PTRATIO\n",
      "Step: score=1837.69, add CHAS\n",
      "Step: score=1835.00, add NOX\n",
      "Step: score=1817.90, add DIS\n",
      "Step: score=1811.82, add ZN\n",
      "Step: score=1810.16, add CRIM\n",
      "Step: score=1808.01, add RAD\n",
      "Step: score=1803.57, add TAX\n",
      "Step: score=1803.57, add None\n",
      "best variables: ['LSTAT', 'RM', 'PTRATIO', 'CHAS', 'NOX', 'DIS', 'ZN', 'CRIM', 'RAD', 'TAX']\n",
      "VALIDATION RESULTS: \n",
      "\n",
      "Regression statistics\n",
      "\n",
      "                      Mean Error (ME) : -0.0393\n",
      "       Root Mean Squared Error (RMSE) : 5.0771\n",
      "            Mean Absolute Error (MAE) : 3.5746\n",
      "          Mean Percentage Error (MPE) : -5.1561\n",
      "Mean Absolute Percentage Error (MAPE) : 16.9733\n"
     ]
    }
   ],
   "source": [
    "best_model, best_variables = forward_selection(train_X.columns, train_model,score_model,verbose=True)\n",
    "print('best variables:',best_variables)\n",
    "print(\"VALIDATION RESULTS: \")\n",
    "regressionSummary(valid_y, best_model.predict(valid_X[best_variables]))"
   ]
  },
  {
   "cell_type": "code",
   "execution_count": 20,
   "metadata": {},
   "outputs": [
    {
     "data": {
      "image/png": "[encoded data removed]",
      "text/plain": [
       "<Figure size 432x288 with 1 Axes>"
      ]
     },
     "metadata": {
      "needs_background": "light"
     },
     "output_type": "display_data"
    }
   ],
   "source": [
    "y_pred = best_model.predict(valid_X[best_variables])\n",
    "all_residuals = valid_y - y_pred\n",
    "pd.DataFrame({'Residuals': all_residuals}).hist(bins=25)\n",
    "plt.show()"
   ]
  },
  {
   "cell_type": "code",
   "execution_count": 21,
   "metadata": {},
   "outputs": [
    {
     "name": "stdout",
     "output_type": "stream",
     "text": [
      "Variables: CRIM, ZN, INDUS, CHAS, NOX, RM, AGE, DIS, RAD, TAX, PTRATIO, LSTAT\n",
      "Start: score=2191.75, constant\n",
      "Step: score=1934.91, add LSTAT\n",
      "Step: score=1874.18, add RM\n",
      "Step: score=1842.54, add PTRATIO\n",
      "Step: score=1837.69, add CHAS\n",
      "Step: score=1835.00, add NOX\n",
      "Step: score=1817.90, add DIS\n",
      "Step: score=1811.82, add ZN\n",
      "Step: score=1810.16, add CRIM\n",
      "Step: score=1808.01, add RAD\n",
      "Step: score=1803.57, add TAX\n",
      "Step: score=1803.57, unchanged None\n",
      "Best Subset: ['LSTAT', 'RM', 'PTRATIO', 'CHAS', 'NOX', 'DIS', 'ZN', 'CRIM', 'RAD', 'TAX']\n",
      "VALIDATION RESULTS: \n",
      "\n",
      "Regression statistics\n",
      "\n",
      "                      Mean Error (ME) : -0.0393\n",
      "       Root Mean Squared Error (RMSE) : 5.0771\n",
      "            Mean Absolute Error (MAE) : 3.5746\n",
      "          Mean Percentage Error (MPE) : -5.1561\n",
      "Mean Absolute Percentage Error (MAPE) : 16.9733\n"
     ]
    }
   ],
   "source": [
    "# stepwise (both) method\n",
    "best_model, best_variables = stepwise_selection(train_X.columns, train_model, score_model, verbose=True)\n",
    "print(\"Best Subset:\", best_variables)\n",
    "print(\"VALIDATION RESULTS: \")\n",
    "regressionSummary(valid_y, best_model.predict(valid_X[best_variables]))"
   ]
  },
  {
   "cell_type": "code",
   "execution_count": 22,
   "metadata": {},
   "outputs": [
    {
     "data": {
      "image/png": "[encoded data removed]",
      "text/plain": [
       "<Figure size 432x288 with 1 Axes>"
      ]
     },
     "metadata": {
      "needs_background": "light"
     },
     "output_type": "display_data"
    }
   ],
   "source": [
    "y_pred = best_model.predict(valid_X[best_variables])\n",
    "all_residuals = valid_y - y_pred\n",
    "pd.DataFrame({'Residuals': all_residuals}).hist(bins=25)\n",
    "plt.show()"
   ]
  },
  {
   "cell_type": "markdown",
   "metadata": {},
   "source": [
    "Forward selection , stepwise selection and backward elimination yielded similar results, with approximately same validation accuray with RMSE 5.07, and less variation in residuals. \n",
    "So we can do final training on these set of variables.\n"
   ]
  },
  {
   "cell_type": "markdown",
   "metadata": {},
   "source": [
    "### BEST MODEL "
   ]
  },
  {
   "cell_type": "code",
   "execution_count": 23,
   "metadata": {},
   "outputs": [],
   "source": [
    "best_variables=['LSTAT', 'RM', 'PTRATIO', 'CHAS', 'NOX', 'DIS', 'ZN', 'CRIM', 'RAD', 'TAX']\n"
   ]
  },
  {
   "cell_type": "code",
   "execution_count": 24,
   "metadata": {},
   "outputs": [
    {
     "name": "stdout",
     "output_type": "stream",
     "text": [
      " Trainingresults on subset of varaibles\n",
      "\n",
      "Regression statistics\n",
      "\n",
      "                      Mean Error (ME) : 0.0000\n",
      "       Root Mean Squared Error (RMSE) : 4.5615\n",
      "            Mean Absolute Error (MAE) : 3.1662\n",
      "          Mean Percentage Error (MPE) : -3.4181\n",
      "Mean Absolute Percentage Error (MAPE) : 16.4898\n",
      "\n",
      "\n",
      "VALIDATION RESULTS on subset of varaibles\n",
      "\n",
      "Regression statistics\n",
      "\n",
      "                      Mean Error (ME) : -0.0393\n",
      "       Root Mean Squared Error (RMSE) : 5.0771\n",
      "            Mean Absolute Error (MAE) : 3.5746\n",
      "          Mean Percentage Error (MPE) : -5.1561\n",
      "Mean Absolute Percentage Error (MAPE) : 16.9733\n"
     ]
    }
   ],
   "source": [
    "model= LinearRegression()\n",
    "model.fit(train_X[best_variables],train_y)\n",
    "print(\" Trainingresults on subset of varaibles\")\n",
    "regressionSummary(train_y, model.predict(train_X[best_variables]))\n",
    "print(\"\\n\")\n",
    "print(\"VALIDATION RESULTS on subset of varaibles\")\n",
    "regressionSummary(valid_y, model.predict(valid_X[best_variables]))"
   ]
  }
 ],
 "metadata": {
  "kernelspec": {
   "display_name": "Python 3",
   "language": "python",
   "name": "python3"
  },
  "language_info": {
   "codemirror_mode": {
    "name": "ipython",
    "version": 3
   },
   "file_extension": ".py",
   "mimetype": "text/x-python",
   "name": "python",
   "nbconvert_exporter": "python",
   "pygments_lexer": "ipython3",
   "version": "3.7.6"
  }
 },
 "nbformat": 4,
 "nbformat_minor": 4
}
